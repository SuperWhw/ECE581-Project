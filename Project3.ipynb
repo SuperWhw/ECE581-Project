{
 "cells": [
  {
   "cell_type": "markdown",
   "metadata": {},
   "source": [
    "# Project 3\n",
    "## Hanwei Wang"
   ]
  },
  {
   "cell_type": "code",
   "execution_count": 1,
   "metadata": {},
   "outputs": [],
   "source": [
    "import numpy as np\n",
    "from numpy.linalg import *\n",
    "import random\n",
    "import math\n",
    "import matplotlib.pyplot as plt\n",
    "from tqdm import tqdm"
   ]
  },
  {
   "cell_type": "markdown",
   "metadata": {},
   "source": [
    "## Problem 1"
   ]
  },
  {
   "cell_type": "code",
   "execution_count": 2,
   "metadata": {},
   "outputs": [
    {
     "data": {
      "text/plain": [
       "(array([0.00092461, 0.        , 0.        , 0.        , 0.        ,\n",
       "        0.00092461, 0.00184922, 0.00554765, 0.00832148, 0.01571835,\n",
       "        0.01941679, 0.04253201, 0.0517781 , 0.06842106, 0.08876246,\n",
       "        0.12667143, 0.14701283, 0.18214797, 0.23854911, 0.28755339,\n",
       "        0.30234713, 0.32546236, 0.32731158, 0.39943108, 0.35412524,\n",
       "        0.43641543, 0.37539124, 0.31159322, 0.31714088, 0.25889051,\n",
       "        0.24409677, 0.19046945, 0.1544097 , 0.13314369, 0.10725464,\n",
       "        0.10170699, 0.06749645, 0.05825037, 0.04438123, 0.04438123,\n",
       "        0.04992888, 0.03236131, 0.03975819, 0.03605975, 0.05085349,\n",
       "        0.05455193, 0.03605975, 0.04438123, 0.04623045, 0.03975819,\n",
       "        0.04715506, 0.04345662, 0.05917497, 0.05825037, 0.04438123,\n",
       "        0.04900428, 0.04623045, 0.04345662, 0.04345662, 0.04623045,\n",
       "        0.0416074 , 0.05547654, 0.04345662, 0.04623045, 0.03975819,\n",
       "        0.0305121 , 0.0305121 , 0.0416074 , 0.03143671, 0.03421053,\n",
       "        0.02126601, 0.02403983, 0.02958749, 0.02311522, 0.01941679,\n",
       "        0.01201992, 0.01941679, 0.00832148, 0.01479374, 0.00832148,\n",
       "        0.01109531, 0.00554765, 0.01201992, 0.00647226, 0.00369844,\n",
       "        0.00647226, 0.00184922, 0.00277383, 0.00369844, 0.00647226,\n",
       "        0.        , 0.00277383, 0.00092461, 0.00092461, 0.00184922,\n",
       "        0.00184922, 0.        , 0.        , 0.00092461, 0.00184922]),\n",
       " array([-4.31308016, -4.17788787, -4.04269558, -3.9075033 , -3.77231101,\n",
       "        -3.63711873, -3.50192644, -3.36673416, -3.23154187, -3.09634959,\n",
       "        -2.9611573 , -2.82596502, -2.69077273, -2.55558044, -2.42038816,\n",
       "        -2.28519587, -2.15000359, -2.0148113 , -1.87961902, -1.74442673,\n",
       "        -1.60923445, -1.47404216, -1.33884988, -1.20365759, -1.06846531,\n",
       "        -0.93327302, -0.79808073, -0.66288845, -0.52769616, -0.39250388,\n",
       "        -0.25731159, -0.12211931,  0.01307298,  0.14826526,  0.28345755,\n",
       "         0.41864983,  0.55384212,  0.68903441,  0.82422669,  0.95941898,\n",
       "         1.09461126,  1.22980355,  1.36499583,  1.50018812,  1.6353804 ,\n",
       "         1.77057269,  1.90576497,  2.04095726,  2.17614955,  2.31134183,\n",
       "         2.44653412,  2.5817264 ,  2.71691869,  2.85211097,  2.98730326,\n",
       "         3.12249554,  3.25768783,  3.39288011,  3.5280724 ,  3.66326469,\n",
       "         3.79845697,  3.93364926,  4.06884154,  4.20403383,  4.33922611,\n",
       "         4.4744184 ,  4.60961068,  4.74480297,  4.87999525,  5.01518754,\n",
       "         5.15037982,  5.28557211,  5.4207644 ,  5.55595668,  5.69114897,\n",
       "         5.82634125,  5.96153354,  6.09672582,  6.23191811,  6.36711039,\n",
       "         6.50230268,  6.63749496,  6.77268725,  6.90787954,  7.04307182,\n",
       "         7.17826411,  7.31345639,  7.44864868,  7.58384096,  7.71903325,\n",
       "         7.85422553,  7.98941782,  8.1246101 ,  8.25980239,  8.39499468,\n",
       "         8.53018696,  8.66537925,  8.80057153,  8.93576382,  9.0709561 ,\n",
       "         9.20614839]),\n",
       " <a list of 100 Patch objects>)"
      ]
     },
     "execution_count": 2,
     "metadata": {},
     "output_type": "execute_result"
    },
    {
     "data": {
      "image/png": "[encoded data removed]",
      "text/plain": [
       "<Figure size 432x288 with 1 Axes>"
      ]
     },
     "metadata": {
      "needs_background": "light"
     },
     "output_type": "display_data"
    }
   ],
   "source": [
    "N = 8000\n",
    "mean = [3,-1]\n",
    "cov = [2**2,0.8**2]\n",
    "alpha = [0.25,0.75]\n",
    "X = []\n",
    "\n",
    "for i in range(N):\n",
    "    if(random.randint(1,4) == 1):\n",
    "        X.append(np.random.normal(mean[0], cov[0]**0.5))\n",
    "    else:\n",
    "        X.append(np.random.normal(mean[1], cov[1]**0.5))\n",
    "plt.hist(X, bins=100, density=1)"
   ]
  },
  {
   "cell_type": "markdown",
   "metadata": {},
   "source": [
    "## Problem 2"
   ]
  },
  {
   "cell_type": "code",
   "execution_count": 3,
   "metadata": {},
   "outputs": [],
   "source": [
    "M = 2\n",
    "\n",
    "##step1: initialize parameters\n",
    "mean = [10.,-10.]\n",
    "cov = [5.,5.]\n",
    "alpha = [0.5,0.5]\n",
    "\n",
    "def guassian(x, mean, cov):\n",
    "    return np.exp(-0.5*(x-mean)*(x-mean)/cov)/((2*math.pi*cov)**0.5)"
   ]
  },
  {
   "cell_type": "code",
   "execution_count": 4,
   "metadata": {},
   "outputs": [],
   "source": [
    "def prob_m(i,m):\n",
    "    return alpha[m]*p[i][m]/np.sum([alpha[j]*p[i][j] for j in range(M)])"
   ]
  },
  {
   "cell_type": "code",
   "execution_count": 5,
   "metadata": {},
   "outputs": [
    {
     "name": "stdout",
     "output_type": "stream",
     "text": [
      "Iteration:  1   ----------\n",
      "   alpha: [0.33157917824734345, 0.6870730935945734]\n",
      "   mean: [2.3342520975308125, -1.1408990542048716]\n",
      "   var: [3.739044116229781, 0.5186460645160267]\n",
      "   LogLikehood: -76120.23461827243\n",
      "\n",
      "\n",
      "Iteration:  5   ----------\n",
      "   alpha: [0.2769584215365935, 0.7240001991398474]\n",
      "   mean: [2.658089982682267, -1.030485982079213]\n",
      "   var: [4.665673443326116, 0.588579283720957]\n",
      "   LogLikehood: -14734.3729163278\n",
      "\n",
      "\n",
      "Iteration:  9   ----------\n",
      "   alpha: [0.26387689469822306, 0.7365288010087503]\n",
      "   mean: [2.8123554187778574, -1.0210154226082286]\n",
      "   var: [4.351311727251642, 0.6048737448119625]\n",
      "   LogLikehood: -14731.809042703368\n",
      "\n",
      "\n",
      "Iteration:  13   ----------\n",
      "   alpha: [0.2568735726826949, 0.7433354016847981]\n",
      "   mean: [2.901083184408696, -1.015831145466152]\n",
      "   var: [4.148183543200939, 0.6134279416638745]\n",
      "   LogLikehood: -14730.986858752585\n",
      "\n",
      "\n",
      "Iteration:  17   ----------\n",
      "   alpha: [0.25292960160201805, 0.7471831125327149]\n",
      "   mean: [2.952151614785031, -1.0125739854612483]\n",
      "   var: [4.028721722422521, 0.6184874167880353]\n",
      "   LogLikehood: -14730.91767765896\n",
      "\n",
      "\n",
      "Iteration:  21   ----------\n",
      "   alpha: [0.2506972026732115, 0.7493647801215866]\n",
      "   mean: [2.9813621447071728, -1.010603674276336]\n",
      "   var: [3.9598487527578334, 0.6214555580558053]\n",
      "   LogLikehood: -14731.038508034404\n",
      "\n",
      "\n",
      "Iteration:  25   ----------\n",
      "   alpha: [0.24943640948557544, 0.7505979763624762]\n",
      "   mean: [2.9979485626172195, -1.0094473999035136]\n",
      "   var: [3.920616920098951, 0.6231698329606259]\n",
      "   LogLikehood: -14731.165234673095\n",
      "\n",
      "\n",
      "Iteration:  29   ----------\n",
      "   alpha: [0.24872656861928802, 0.7512925866954993]\n",
      "   mean: [3.007313624596732, -1.0087820143038537]\n",
      "   var: [3.8984362313790983, 0.6241479251910944]\n",
      "   LogLikehood: -14731.256681104194\n",
      "\n",
      "\n",
      "Iteration:  33   ----------\n",
      "   alpha: [0.24832788506023054, 0.7516828077014333]\n",
      "   mean: [3.0125816677098807, -1.0084036466947532]\n",
      "   var: [3.885951700767045, 0.6247015246042315]\n",
      "   LogLikehood: -14731.314685826534\n",
      "\n",
      "\n",
      "Iteration:  37   ----------\n",
      "   alpha: [0.2481043170089377, 0.7519016581621313]\n",
      "   mean: [3.0155383107427833, -1.0081899874836082]\n",
      "   var: [3.878942877528163, 0.6250133327295845]\n",
      "   LogLikehood: -14731.349358572506\n",
      "\n",
      "\n",
      "Iteration:  41   ----------\n",
      "   alpha: [0.247979067728683, 0.7520242731108077]\n",
      "   mean: [3.0171954842920186, -1.0080698200661462]\n",
      "   var: [3.875013928898499, 0.6251884518768658]\n",
      "   LogLikehood: -14731.369466935497\n",
      "\n",
      "\n"
     ]
    }
   ],
   "source": [
    "LL = []\n",
    "for iter in range(41):\n",
    "    \n",
    "    p = np.zeros((N,M))\n",
    "    for n in range(N):\n",
    "        for m in range(M):\n",
    "            p[n][m] = guassian(X[n], mean[m], cov[m])\n",
    "\n",
    "    #step 2\n",
    "    for m in range(M):\n",
    "        alpha[m] = np.sum([prob_m(i,m) for i in range(N)]) / N\n",
    "\n",
    "    #step 3\n",
    "    for m in range(M):\n",
    "        mean[m] = np.sum([X[i]*prob_m(i,m) for i in range(N)]) / (N*alpha[m])\n",
    "        cov[m] = np.sum([(prob_m(i,m))*(X[i]-mean[m])*(X[i]-mean[m]) for i in range(N)]) / (N*alpha[m])\n",
    "        \n",
    "    \n",
    "    #calculate Log Likelyhood\n",
    "    ll = 0\n",
    "    for i in range(N):\n",
    "        tmp = 0\n",
    "        for m in range(M):\n",
    "            tmp += alpha[m]*p[i][m]\n",
    "        ll += math.log(tmp)\n",
    "    LL.append(ll)\n",
    "\n",
    "    if(iter % 4 == 0):\n",
    "        print(\"Iteration: \",iter+1,\"  ----------\")\n",
    "        print(\"   alpha:\",alpha)\n",
    "        print(\"   mean:\",mean)\n",
    "        print(\"   var:\",cov)\n",
    "        print(\"   LogLikehood:\",ll)\n",
    "        print('\\n')"
   ]
  },
  {
   "cell_type": "code",
   "execution_count": 6,
   "metadata": {},
   "outputs": [
    {
     "data": {
      "text/plain": [
       "[<matplotlib.lines.Line2D at 0x1df65b38710>]"
      ]
     },
     "execution_count": 6,
     "metadata": {},
     "output_type": "execute_result"
    },
    {
     "data": {
      "image/png": "[encoded data removed]",
      "text/plain": [
       "<Figure size 432x288 with 1 Axes>"
      ]
     },
     "metadata": {
      "needs_background": "light"
     },
     "output_type": "display_data"
    }
   ],
   "source": [
    "plt.plot([x for x in range(2,41)], LL[2:])"
   ]
  },
  {
   "cell_type": "code",
   "execution_count": 7,
   "metadata": {},
   "outputs": [
    {
     "data": {
      "text/plain": [
       "[<matplotlib.lines.Line2D at 0x1df65ba73c8>]"
      ]
     },
     "execution_count": 7,
     "metadata": {},
     "output_type": "execute_result"
    },
    {
     "data": {
      "image/png": "[encoded data removed]",
      "text/plain": [
       "<Figure size 432x288 with 1 Axes>"
      ]
     },
     "metadata": {
      "needs_background": "light"
     },
     "output_type": "display_data"
    }
   ],
   "source": [
    "X0 = []\n",
    "for x0 in np.arange(-4, 10, 0.1):\n",
    "    X0.append(alpha[0]*guassian(x0, mean[0], cov[0])+alpha[1]*guassian(x0, mean[1], cov[1]))\n",
    "plt.plot(np.arange(-4,10,0.1), X0)"
   ]
  },
  {
   "cell_type": "markdown",
   "metadata": {},
   "source": [
    "## Problem 3"
   ]
  },
  {
   "cell_type": "code",
   "execution_count": 8,
   "metadata": {},
   "outputs": [],
   "source": [
    "def phi(i):\n",
    "    return abs(i)<0.5\n",
    "\n",
    "def KDE(x,h):\n",
    "    return np.sum([phi((x-X[n])/h) for n in range(N)]) / (N*h)\n",
    "\n",
    "X1 = []\n",
    "h = 2\n",
    "for x1 in np.arange(-4,10,0.1):\n",
    "    X1.append(KDE(x1,h))"
   ]
  },
  {
   "cell_type": "code",
   "execution_count": 9,
   "metadata": {},
   "outputs": [
    {
     "data": {
      "text/plain": [
       "[<matplotlib.lines.Line2D at 0x1df65c0f588>]"
      ]
     },
     "execution_count": 9,
     "metadata": {},
     "output_type": "execute_result"
    },
    {
     "data": {
      "image/png": "[encoded data removed]",
      "text/plain": [
       "<Figure size 432x288 with 1 Axes>"
      ]
     },
     "metadata": {
      "needs_background": "light"
     },
     "output_type": "display_data"
    }
   ],
   "source": [
    "plt.plot(np.arange(-4,10,0.1), X1)"
   ]
  },
  {
   "cell_type": "markdown",
   "metadata": {},
   "source": [
    "## Problem 4"
   ]
  },
  {
   "cell_type": "code",
   "execution_count": 76,
   "metadata": {},
   "outputs": [],
   "source": [
    "N = 2000\n",
    "M = 3\n",
    "\n",
    "mean = np.array([[-0.5,0.5],[5.5,1.5],[1,4]])\n",
    "cov = np.array([[[2.0,0.3],[0.3,0.5]],[[4.0,0.3],[0.3,0.5]],[[6.0,1.0],[1.0,2.0]]])\n",
    "alpha = [0.2,0.3,0.5]"
   ]
  },
  {
   "cell_type": "code",
   "execution_count": 77,
   "metadata": {},
   "outputs": [
    {
     "data": {
      "image/png": "[encoded data removed]",
      "text/plain": [
       "<Figure size 432x288 with 1 Axes>"
      ]
     },
     "metadata": {
      "needs_background": "light"
     },
     "output_type": "display_data"
    }
   ],
   "source": [
    "X = []\n",
    "Y = []\n",
    "for n in range(N):\n",
    "    m = random.random()\n",
    "    if(m < alpha[0]): \n",
    "        m = 0\n",
    "        color = 'r'\n",
    "    elif(m < alpha[1]+alpha[0]): \n",
    "        m = 1\n",
    "        color = 'g'\n",
    "    else: \n",
    "        m = 2\n",
    "        color = 'b'\n",
    "    x,y = np.random.multivariate_normal(mean[m],cov[m]).T\n",
    "    plt.scatter(x,y,c=color,marker='.')\n",
    "    X.append(x)\n",
    "    Y.append(y)"
   ]
  },
  {
   "cell_type": "markdown",
   "metadata": {},
   "source": [
    "## Problem 5"
   ]
  },
  {
   "cell_type": "code",
   "execution_count": 78,
   "metadata": {},
   "outputs": [],
   "source": [
    "X = np.array(X)\n",
    "Y = np.array(Y)\n",
    "\n",
    "#step 1\n",
    "mean = np.array([[0.,0.],[5.,5.],[1.,5.]])\n",
    "cov = np.array([[[1.,0.],[0.,1.]],[[2.,0.],[0.,1.]],[[1.,0.],[0.,2.]]])\n",
    "alpha = [0.3,0.3,0.4]\n",
    "\n",
    "def multi_guassian(x, mean, cov):\n",
    "    return np.exp(-0.5*((x-mean).T).dot(inv(cov)).dot(x-mean))/((2*math.pi*(det(cov)**(0.5))))"
   ]
  },
  {
   "cell_type": "code",
   "execution_count": 79,
   "metadata": {},
   "outputs": [],
   "source": [
    "def prob_m(i,m):\n",
    "    return alpha[m]*p[i][m]/np.sum([alpha[j]*p[i][j] for j in range(M)])"
   ]
  },
  {
   "cell_type": "code",
   "execution_count": 80,
   "metadata": {},
   "outputs": [
    {
     "name": "stdout",
     "output_type": "stream",
     "text": [
      "Iteration:  1   ----------\n",
      "   alpha: [0.2966558063821931, 0.3361398443335127, 0.36426578461924614]\n",
      "   mean: [[-0.35231549  0.8478504 ]\n",
      " [ 5.50804509  2.6940716 ]\n",
      " [ 0.5408977   3.85595107]]\n",
      "   cov: [[[ 4.17084104 -0.29400698]\n",
      "  [-0.29400698  0.87659958]]\n",
      "\n",
      " [[ 3.11063526 -1.42274097]\n",
      "  [-1.42274097  2.94561937]]\n",
      "\n",
      " [[ 3.25957391 -0.42292747]\n",
      "  [-0.42292747  1.80466669]]]\n",
      "   LogLikehood: -12931.404016940201\n",
      "\n",
      "\n",
      "Iteration:  21   ----------\n",
      "   alpha: [0.1971251955951883, 0.29057713412658975, 0.5125445567877667]\n",
      "   mean: [[-0.42006882  0.47202641]\n",
      " [ 5.45236998  1.51478548]\n",
      " [ 0.86326078  3.95767596]]\n",
      "   cov: [[[2.27417622 0.30660895]\n",
      "  [0.30660895 0.47246665]]\n",
      "\n",
      " [[3.68407263 0.22854692]\n",
      "  [0.22854692 0.53217718]]\n",
      "\n",
      " [[5.93239328 1.20240483]\n",
      "  [1.20240483 1.99523643]]]\n",
      "   LogLikehood: -8750.88875909048\n",
      "\n",
      "\n",
      "Iteration:  41   ----------\n",
      "   alpha: [0.1897858615342324, 0.2901942144285069, 0.5200272405242422]\n",
      "   mean: [[-0.46370794  0.44961015]\n",
      " [ 5.44286719  1.50158474]\n",
      " [ 0.87015471  3.92405355]]\n",
      "   cov: [[[2.18529824 0.28876382]\n",
      "  [0.28876382 0.45591381]]\n",
      "\n",
      " [[3.73767182 0.25855745]\n",
      "  [0.25855745 0.52786231]]\n",
      "\n",
      " [[5.93377673 1.18761728]\n",
      "  [1.18761728 2.05339382]]]\n",
      "   LogLikehood: -8750.967379227039\n",
      "\n",
      "\n",
      "Iteration:  61   ----------\n",
      "   alpha: [0.18956213396961616, 0.2902344176112877, 0.5202036613323674]\n",
      "   mean: [[-0.46519779  0.44891996]\n",
      " [ 5.44206807  1.50126227]\n",
      " [ 0.87022828  3.92323149]]\n",
      "   cov: [[[2.18241008 0.28812996]\n",
      "  [0.28812996 0.45541821]]\n",
      "\n",
      " [[3.74045805 0.25933282]\n",
      "  [0.25933282 0.52781414]]\n",
      "\n",
      " [[5.93372221 1.18743075]\n",
      "  [1.18743075 2.05489604]]]\n",
      "   LogLikehood: -8750.98130000124\n",
      "\n",
      "\n",
      "Iteration:  81   ----------\n",
      "   alpha: [0.18955468836857312, 0.290237960435659, 0.5202073580396259]\n",
      "   mean: [[-0.46526162  0.44889759]\n",
      " [ 5.44201821  1.5012514 ]\n",
      " [ 0.87022945  3.92321403]]\n",
      "   cov: [[[2.18229085 0.28810241]\n",
      "  [0.28810241 0.45540353]]\n",
      "\n",
      " [[3.74060605 0.25936049]\n",
      "  [0.25936049 0.52781439]]\n",
      "\n",
      " [[5.93372054 1.18742755]\n",
      "  [1.18742755 2.0549285 ]]]\n",
      "   LogLikehood: -8750.981711808518\n",
      "\n",
      "\n",
      "Iteration:  101   ----------\n",
      "   alpha: [0.18955439757456724, 0.2902382039611963, 0.5202073987199419]\n",
      "   mean: [[-0.46526479  0.44889674]\n",
      " [ 5.44201516  1.50125097]\n",
      " [ 0.87022944  3.92321382]]\n",
      "   cov: [[[2.18228508 0.28810103]\n",
      "  [0.28810103 0.45540304]]\n",
      "\n",
      " [[3.74061446 0.25936166]\n",
      "  [0.25936166 0.52781449]]\n",
      "\n",
      " [[5.93372049 1.18742757]\n",
      "  [1.18742757 2.05492893]]]\n",
      "   LogLikehood: -8750.98172498413\n",
      "\n",
      "\n",
      "Iteration:  121   ----------\n",
      "   alpha: [0.18955438416690867, 0.29023821946531564, 0.5202073963790942]\n",
      "   mean: [[-0.46526497  0.4488967 ]\n",
      " [ 5.44201497  1.50125095]\n",
      " [ 0.87022944  3.92321383]]\n",
      "   cov: [[[2.18228477 0.28810095]\n",
      "  [0.28810095 0.45540303]]\n",
      "\n",
      " [[3.74061495 0.25936172]\n",
      "  [0.25936172 0.5278145 ]]\n",
      "\n",
      " [[5.93372048 1.18742758]\n",
      "  [1.18742758 2.05492891]]]\n",
      "   LogLikehood: -8750.98172547292\n",
      "\n",
      "\n",
      "Iteration:  141   ----------\n",
      "   alpha: [0.1895543834653567, 0.29023822042383496, 0.5202073961113843]\n",
      "   mean: [[-0.46526498  0.4488967 ]\n",
      " [ 5.44201496  1.50125095]\n",
      " [ 0.87022944  3.92321383]]\n",
      "   cov: [[[2.18228476 0.28810095]\n",
      "  [0.28810095 0.45540302]]\n",
      "\n",
      " [[3.74061498 0.25936172]\n",
      "  [0.25936172 0.5278145 ]]\n",
      "\n",
      " [[5.93372048 1.18742758]\n",
      "  [1.18742758 2.05492891]]]\n",
      "   LogLikehood: -8750.981725494396\n",
      "\n",
      "\n",
      "Iteration:  161   ----------\n",
      "   alpha: [0.1895543834257766, 0.2902382204823816, 0.5202073960918738]\n",
      "   mean: [[-0.46526498  0.4488967 ]\n",
      " [ 5.44201496  1.50125095]\n",
      " [ 0.87022944  3.92321383]]\n",
      "   cov: [[[2.18228476 0.28810095]\n",
      "  [0.28810095 0.45540302]]\n",
      "\n",
      " [[3.74061498 0.25936172]\n",
      "  [0.25936172 0.5278145 ]]\n",
      "\n",
      " [[5.93372048 1.18742758]\n",
      "  [1.18742758 2.05492891]]]\n",
      "   LogLikehood: -8750.981725495474\n",
      "\n",
      "\n",
      "Iteration:  181   ----------\n",
      "   alpha: [0.1895543834234569, 0.2902382204859392, 0.5202073960906056]\n",
      "   mean: [[-0.46526498  0.4488967 ]\n",
      " [ 5.44201496  1.50125095]\n",
      " [ 0.87022944  3.92321383]]\n",
      "   cov: [[[2.18228476 0.28810095]\n",
      "  [0.28810095 0.45540302]]\n",
      "\n",
      " [[3.74061498 0.25936172]\n",
      "  [0.25936172 0.5278145 ]]\n",
      "\n",
      " [[5.93372048 1.18742758]\n",
      "  [1.18742758 2.05492891]]]\n",
      "   LogLikehood: -8750.981725495525\n",
      "\n",
      "\n",
      "Iteration:  201   ----------\n",
      "   alpha: [0.18955438342331793, 0.29023822048615433, 0.5202073960905279]\n",
      "   mean: [[-0.46526498  0.4488967 ]\n",
      " [ 5.44201496  1.50125095]\n",
      " [ 0.87022944  3.92321383]]\n",
      "   cov: [[[2.18228476 0.28810095]\n",
      "  [0.28810095 0.45540302]]\n",
      "\n",
      " [[3.74061498 0.25936172]\n",
      "  [0.25936172 0.5278145 ]]\n",
      "\n",
      " [[5.93372048 1.18742758]\n",
      "  [1.18742758 2.05492891]]]\n",
      "   LogLikehood: -8750.981725495541\n",
      "\n",
      "\n"
     ]
    }
   ],
   "source": [
    "LL = []\n",
    "for iter in range(201):\n",
    "    \n",
    "    p = np.zeros((N,M))\n",
    "    for n in range(N):\n",
    "        for m in range(M):\n",
    "            p[n][m] = multi_guassian(np.array([X[n],Y[n]]), mean[m], cov[m])\n",
    "\n",
    "    #step 2\n",
    "    for m in range(M):\n",
    "        alpha[m] = np.sum([prob_m(i,m) for i in range(N)]) / N\n",
    "\n",
    "    #step 3\n",
    "    for m in range(M):\n",
    "        mean[m] = np.sum([np.dot([X[i],Y[i]], prob_m(i,m)) for i in range(N)], axis=0) / (N*alpha[m])\n",
    "        mat = np.zeros((2,2))\n",
    "        for i in range(N):\n",
    "            mat += np.array(prob_m(i,m)).dot((np.array([np.array([X[i],Y[i]])-mean[m]]).T)).dot(np.array([np.array([X[i],Y[i]])-mean[m]]))\n",
    "        cov[m] = mat / (N*alpha[m])\n",
    "        \n",
    "    \n",
    "    #calculate Log Likelyhood\n",
    "    ll = 1\n",
    "    for i in range(N):\n",
    "        tmp = 0\n",
    "        for m in range(M):\n",
    "            tmp += alpha[m]*p[i][m]\n",
    "        ll += math.log(tmp)\n",
    "    LL.append(ll)\n",
    "\n",
    "    if(iter % 20 == 0):\n",
    "        print(\"Iteration: \",iter+1,\"  ----------\")\n",
    "        print(\"   alpha:\",alpha)\n",
    "        print(\"   mean:\",mean)\n",
    "        print(\"   cov:\",cov)\n",
    "        print(\"   LogLikehood:\",ll)\n",
    "        print('\\n')"
   ]
  },
  {
   "cell_type": "code",
   "execution_count": 85,
   "metadata": {},
   "outputs": [
    {
     "data": {
      "text/plain": [
       "[<matplotlib.lines.Line2D at 0x26b5a52ae80>]"
      ]
     },
     "execution_count": 85,
     "metadata": {},
     "output_type": "execute_result"
    },
    {
     "data": {
      "image/png": "[encoded data removed]",
      "text/plain": [
       "<Figure size 432x288 with 1 Axes>"
      ]
     },
     "metadata": {
      "needs_background": "light"
     },
     "output_type": "display_data"
    }
   ],
   "source": [
    "plt.plot([x for x in range(1,25)],LL[1:25])"
   ]
  },
  {
   "cell_type": "code",
   "execution_count": null,
   "metadata": {},
   "outputs": [],
   "source": []
  }
 ],
 "metadata": {
  "kernelspec": {
   "display_name": "Python 3",
   "language": "python",
   "name": "python3"
  },
  "language_info": {
   "codemirror_mode": {
    "name": "ipython",
    "version": 3
   },
   "file_extension": ".py",
   "mimetype": "text/x-python",
   "name": "python",
   "nbconvert_exporter": "python",
   "pygments_lexer": "ipython3",
   "version": "3.6.5"
  }
 },
 "nbformat": 4,
 "nbformat_minor": 2
}
