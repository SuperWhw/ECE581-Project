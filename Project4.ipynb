{
 "cells": [
  {
   "cell_type": "markdown",
   "metadata": {},
   "source": [
    "# Project 3\n",
    "## Hanwei Wang"
   ]
  },
  {
   "cell_type": "code",
   "execution_count": 88,
   "metadata": {},
   "outputs": [],
   "source": [
    "import numpy as np\n",
    "from numpy.linalg import *\n",
    "import random\n",
    "import math\n",
    "import matplotlib.pyplot as plt\n",
    "from scipy.fftpack import fft,ifft\n",
    "from tqdm import tqdm"
   ]
  },
  {
   "cell_type": "markdown",
   "metadata": {},
   "source": [
    "## Problem 1"
   ]
  },
  {
   "cell_type": "markdown",
   "metadata": {},
   "source": [
    "$E[X[n]] = \\frac n 2 \\quad var(X[n]) = \\frac n 2$"
   ]
  },
  {
   "cell_type": "code",
   "execution_count": 7,
   "metadata": {},
   "outputs": [
    {
     "data": {
      "text/plain": [
       "[<matplotlib.lines.Line2D at 0x22d95fe2978>]"
      ]
     },
     "execution_count": 7,
     "metadata": {},
     "output_type": "execute_result"
    },
    {
     "data": {
      "image/png": "[encoded data removed]",
      "text/plain": [
       "<Figure size 432x288 with 1 Axes>"
      ]
     },
     "metadata": {
      "needs_background": "light"
     },
     "output_type": "display_data"
    }
   ],
   "source": [
    "N = 100\n",
    "X = []\n",
    "sum = 0\n",
    "for i in range(N):\n",
    "    if(random.randint(1,4) == 1):\n",
    "        sum += -1\n",
    "        X.append(sum)\n",
    "    else:\n",
    "        sum += 1\n",
    "        X.append(sum)\n",
    "plt.plot(X)"
   ]
  },
  {
   "cell_type": "markdown",
   "metadata": {},
   "source": [
    "When $n \\rightarrow \\infty$, $X[n]\\rightarrow \\infty$"
   ]
  },
  {
   "cell_type": "code",
   "execution_count": null,
   "metadata": {},
   "outputs": [],
   "source": [
    "PMF??"
   ]
  },
  {
   "cell_type": "markdown",
   "metadata": {},
   "source": [
    "## Problem 2"
   ]
  },
  {
   "cell_type": "code",
   "execution_count": 105,
   "metadata": {},
   "outputs": [],
   "source": [
    "M = 10000\n",
    "a = 0.95\n",
    "res1 = [0]*50\n",
    "res2 = [0]*50\n",
    "for m in range(M):\n",
    "    U = np.random.normal(0, 1, 50)\n",
    "    X1 = []\n",
    "    X2 = []\n",
    "    X1.append(U[0])\n",
    "    X2.append(a * np.random.normal(0, np.sqrt(1/(1-a*a)), 1) + U[0])\n",
    "    for n in range(1,50):\n",
    "        X1.append(a * X1[n-1] + U[n])\n",
    "        X2.append(a * X2[n-1] + U[n])\n",
    "    for i in range(50):\n",
    "        res1[i] += X1[i]*X1[i]\n",
    "        res2[i] += X2[i]*X2[i]\n",
    "for i in range(50):\n",
    "    res1[i] = res1[i]/M\n",
    "    res2[i] = res2[i]/M"
   ]
  },
  {
   "cell_type": "code",
   "execution_count": 106,
   "metadata": {},
   "outputs": [
    {
     "name": "stdout",
     "output_type": "stream",
     "text": [
      "The first set: \n",
      "Theoretical:  10.256410256410254   Simulation:  8.29707127730036\n",
      "The second set: \n",
      "Theoretical:  10.256410256410254   Simulation:  10.228778169784396\n"
     ]
    }
   ],
   "source": [
    "print(\"The first set: \")\n",
    "print(\"Theoretical: \", 1/(1-a*a), \"  Simulation: \", np.mean(res1))\n",
    "print(\"The second set: \")\n",
    "print(\"Theoretical: \", 1/(1-a*a), \"  Simulation: \", np.mean(res2))"
   ]
  },
  {
   "cell_type": "markdown",
   "metadata": {},
   "source": [
    "## Problem 3"
   ]
  },
  {
   "cell_type": "code",
   "execution_count": 161,
   "metadata": {},
   "outputs": [],
   "source": [
    "a = 0.9\n",
    "b = 0.2\n",
    "M = 10000\n",
    "N = 50\n",
    "res1 = [0]*N\n",
    "res2 = [0]*N\n",
    "for _ in range(M):\n",
    "    U = np.random.normal(0, 1, 50)\n",
    "    X1 = []\n",
    "    X2 = []\n",
    "    X1.append(b * np.random.normal(0, np.sqrt((a-b)*(a-b)/(1-a*a)), 1) + U[0])\n",
    "    X2.append(a * np.random.normal(0, np.sqrt((a-b)*(a-b)/(1-a*a)), 1) + U[0])\n",
    "    for n in range(1,N):\n",
    "        X1.append(a * X1[n-1] + U[n] - b * U[n-1])\n",
    "        X2.append(b * X2[n-1] + U[n] - a * U[n-1])\n",
    "    for n in range(N):\n",
    "        res1[n] += X1[n]*X1[n]\n",
    "        res2[n] += X2[n]*X2[n]\n",
    "for i in range(N):\n",
    "    res1[i] = res1[i]/M\n",
    "    res2[i] = res2[i]/M"
   ]
  },
  {
   "cell_type": "code",
   "execution_count": 162,
   "metadata": {},
   "outputs": [
    {
     "name": "stdout",
     "output_type": "stream",
     "text": [
      "The first set: \n",
      "Theoretical:  3.578947368421053   Simulation:  3.3071454191599368\n",
      "The second set: \n",
      "Theoretical:  1.5104166666666665   Simulation:  1.5441595217474058\n"
     ]
    }
   ],
   "source": [
    "print(\"The first set: \")\n",
    "print(\"Theoretical: \", 1+(a-b)*(a-b)/(1-a*a), \"  Simulation: \", np.mean(res1))\n",
    "print(\"The second set: \")\n",
    "print(\"Theoretical: \", 1+(a-b)*(a-b)/(1-b*b), \"  Simulation: \", np.mean(res2))"
   ]
  },
  {
   "cell_type": "markdown",
   "metadata": {},
   "source": [
    "## problem 4"
   ]
  },
  {
   "cell_type": "code",
   "execution_count": 163,
   "metadata": {},
   "outputs": [
    {
     "data": {
      "text/plain": [
       "[<matplotlib.lines.Line2D at 0x2084f4cacf8>]"
      ]
     },
     "execution_count": 163,
     "metadata": {},
     "output_type": "execute_result"
    },
    {
     "data": {
      "image/png": "[encoded data removed]",
      "text/plain": [
       "<Figure size 432x288 with 1 Axes>"
      ]
     },
     "metadata": {
      "needs_background": "light"
     },
     "output_type": "display_data"
    }
   ],
   "source": [
    "H = []\n",
    "for f in np.arange(-0.5,0.5,0.01):\n",
    "    p = 2-2*math.cos(2*math.pi*f)\n",
    "    H.append(p/(p+1))\n",
    "    plt.title(\"Frequency response\")\n",
    "plt.plot(np.arange(-0.5,0.5,0.01),H)"
   ]
  },
  {
   "cell_type": "code",
   "execution_count": 164,
   "metadata": {},
   "outputs": [
    {
     "name": "stdout",
     "output_type": "stream",
     "text": [
      "minimum MSE = 0.5527864045000418\n"
     ]
    }
   ],
   "source": [
    "delta = 0.001\n",
    "L = int(0.5/delta)\n",
    "mse = 0\n",
    "for n in range(-L,L):\n",
    "    p = 2-2*math.cos(2*math.pi*(n*delta))\n",
    "    mse+=(p/(1+p))*delta\n",
    "print(\"minimum MSE =\", mse)"
   ]
  },
  {
   "cell_type": "markdown",
   "metadata": {},
   "source": [
    "## Problem 5"
   ]
  },
  {
   "cell_type": "code",
   "execution_count": 83,
   "metadata": {},
   "outputs": [],
   "source": [
    "M = 10000\n",
    "a = 0.25\n",
    "res = [0]*50\n",
    "\n",
    "U = np.random.normal(0, math.sqrt(0.5), 50)\n",
    "X = []\n",
    "S = []\n",
    "W = []\n",
    "S.append(a * np.random.normal(0, np.sqrt(1/(1-a*a)), 1) + U[0])\n",
    "for n in range(1,50):\n",
    "    S.append(a * S[n-1] + U[n])\n",
    "W = np.random.normal(0, 1, 50)\n",
    "X = [S[i] + W[i] for i in range(50)]"
   ]
  },
  {
   "cell_type": "code",
   "execution_count": 105,
   "metadata": {},
   "outputs": [],
   "source": [
    "Nfft = 1024\n",
    "Ps = 0.5/(pow(abs(1-a*math.exp(-j*2*math.pi*n/Nfft)),2))\n",
    "Hf = Ps/(Ps + 1)\n",
    "sestf = Hf*fft(X,Nfft)\n",
    "sest = ifft(sestf,Nfft).real"
   ]
  },
  {
   "cell_type": "code",
   "execution_count": 107,
   "metadata": {},
   "outputs": [
    {
     "data": {
      "text/plain": [
       "<matplotlib.legend.Legend at 0x2084cf18eb8>"
      ]
     },
     "execution_count": 107,
     "metadata": {},
     "output_type": "execute_result"
    },
    {
     "data": {
      "image/png": "[encoded data removed]",
      "text/plain": [
       "<Figure size 432x288 with 1 Axes>"
      ]
     },
     "metadata": {
      "needs_background": "light"
     },
     "output_type": "display_data"
    }
   ],
   "source": [
    "plt.plot(S, label = \"S\")\n",
    "plt.plot(X, label = \"X\")\n",
    "plt.plot(sest[:,0], label=\"sest\")\n",
    "plt.legend()"
   ]
  },
  {
   "cell_type": "markdown",
   "metadata": {},
   "source": [
    "## Problem 6"
   ]
  },
  {
   "cell_type": "markdown",
   "metadata": {},
   "source": [
    "$X[n] = U[n] - U[n-1]$"
   ]
  },
  {
   "cell_type": "code",
   "execution_count": 156,
   "metadata": {},
   "outputs": [],
   "source": [
    "M = 10000\n",
    "N = 50\n",
    "res = [0]*N\n",
    "R = [0]*10\n",
    "for _ in range(M):\n",
    "    U = np.random.normal(0, 1, N+1)\n",
    "    X = []\n",
    "    for n in range(N):\n",
    "        X.append(U[n] - U[n-1])\n",
    "    for k in range(10):\n",
    "        tmp = 0\n",
    "        count = 0\n",
    "        i = 0\n",
    "        while i+k < N:\n",
    "            tmp += X[i]*X[i+k]\n",
    "            count += 1\n",
    "            i+=1\n",
    "        R[k] += tmp/count\n",
    "R = [R[i]/M for i in range(10)]"
   ]
  },
  {
   "cell_type": "code",
   "execution_count": 160,
   "metadata": {},
   "outputs": [
    {
     "name": "stdout",
     "output_type": "stream",
     "text": [
      "Theoretical:  [2,-1,0,0,0,0,0,0,0,0]\n",
      "Simulation: \n",
      "Rx( 0 ) =  2.0004693467273604\n",
      "Rx( 1 ) =  -0.9981653479779572\n",
      "Rx( 2 ) =  -0.0029204975315524433\n",
      "Rx( 3 ) =  -0.0005303173918233487\n",
      "Rx( 4 ) =  -0.0003643701224349409\n",
      "Rx( 5 ) =  0.0003712948188323265\n",
      "Rx( 6 ) =  0.0018111292929015438\n",
      "Rx( 7 ) =  0.0012376452311162705\n",
      "Rx( 8 ) =  -0.0019484282581071375\n",
      "Rx( 9 ) =  -0.0006855387561284913\n"
     ]
    }
   ],
   "source": [
    "print(\"Theoretical: \", \"[2,-1,0,0,0,0,0,0,0,0]\")\n",
    "print(\"Simulation: \")\n",
    "for k in range(10):\n",
    "    print(\"Rx(\",k,\") = \",R[k])"
   ]
  },
  {
   "cell_type": "markdown",
   "metadata": {},
   "source": [
    "## Problem 7"
   ]
  },
  {
   "cell_type": "code",
   "execution_count": 146,
   "metadata": {},
   "outputs": [
    {
     "name": "stdout",
     "output_type": "stream",
     "text": [
      "Arrive rate for lambda = 2:  2.0996099999999998\n",
      "Arrive rate for lambda = 5:  5.09529\n"
     ]
    }
   ],
   "source": [
    "N = 10000\n",
    "lamb1 = 2\n",
    "lamb2 = 5\n",
    "t = 10\n",
    "res1 = res2 = 0\n",
    "for _ in range(N):\n",
    "    time1 = time2 = 0\n",
    "    while time1 < t:\n",
    "        time1 += np.random.exponential(1/lamb1)\n",
    "        res1 += 1\n",
    "    while time2 < t:\n",
    "        time2 += np.random.exponential(1/lamb2)\n",
    "        res2 += 1\n",
    "print(\"Arrive rate for lambda = 2: \", res1/t/N)\n",
    "print(\"Arrive rate for lambda = 5: \", res2/t/N)"
   ]
  },
  {
   "cell_type": "markdown",
   "metadata": {},
   "source": [
    "## Problem 8"
   ]
  },
  {
   "cell_type": "code",
   "execution_count": 49,
   "metadata": {},
   "outputs": [
    {
     "name": "stdout",
     "output_type": "stream",
     "text": [
      "Simulation:  0.2614\n",
      "Theoretical:  0.26424111765711533\n"
     ]
    }
   ],
   "source": [
    "N = 10000\n",
    "lamb = 1\n",
    "res = 0\n",
    "for _ in range(N):\n",
    "    time = np.sum(np.random.exponential(lamb, size=2))\n",
    "    if time < 1:\n",
    "        res+=1\n",
    "print(\"Simulation: \", res/N)\n",
    "print(\"Theoretical: \", 1-np.exp(-lamb)-np.exp(-lamb))"
   ]
  },
  {
   "cell_type": "markdown",
   "metadata": {},
   "source": [
    "## Problem 9"
   ]
  },
  {
   "cell_type": "code",
   "execution_count": 151,
   "metadata": {},
   "outputs": [
    {
     "name": "stdout",
     "output_type": "stream",
     "text": [
      "P(error) =  0.33551\n"
     ]
    }
   ],
   "source": [
    "N = 100000\n",
    "res = 0\n",
    "for _ in range(N):\n",
    "    signal = 0\n",
    "    for _ in range(5):\n",
    "        if np.random.randint(1,10+1) == 1:\n",
    "            signal = 1-signal\n",
    "    if signal != 0:\n",
    "        res+=1\n",
    "print(\"P(error) = \", res/N)"
   ]
  },
  {
   "cell_type": "markdown",
   "metadata": {},
   "source": [
    "## Problem 10"
   ]
  },
  {
   "cell_type": "code",
   "execution_count": 12,
   "metadata": {},
   "outputs": [],
   "source": [
    "N = 10000\n",
    "bulb = [1,1,1]\n",
    "TPM = np.zeros((4,4))\n",
    "sum = np.sum(bulb)\n",
    "newsum = 0\n",
    "for _ in range(N):\n",
    "    if np.random.rand() < 0.5:\n",
    "        bulb[0] = 0\n",
    "    if np.random.rand() < 0.5:\n",
    "        bulb[1] = 0\n",
    "    if np.random.rand() < 0.5:\n",
    "        bulb[2] = 0\n",
    "    if sum == 0:\n",
    "        bulb = [1,1,1]\n",
    "    newsum = np.sum(bulb)\n",
    "    TPM[sum][newsum] += 1\n",
    "    sum = newsum"
   ]
  },
  {
   "cell_type": "code",
   "execution_count": 17,
   "metadata": {},
   "outputs": [
    {
     "name": "stdout",
     "output_type": "stream",
     "text": [
      "Transition Probability Matrix: \n",
      "[[0.         0.         0.         1.        ]\n",
      " [0.49755255 0.50244745 0.         0.        ]\n",
      " [0.25128961 0.4944731  0.25423729 0.        ]\n",
      " [0.13299233 0.38618926 0.3697479  0.11107052]]\n"
     ]
    }
   ],
   "source": [
    "for i in range(4):\n",
    "    tmp = np.sum(TPM[i])\n",
    "    for j in range(4):\n",
    "        TPM[i][j] /= tmp\n",
    "print(\"Transition Probability Matrix: \")\n",
    "print(TPM)"
   ]
  },
  {
   "cell_type": "code",
   "execution_count": null,
   "metadata": {},
   "outputs": [],
   "source": []
  }
 ],
 "metadata": {
  "kernelspec": {
   "display_name": "Python 3",
   "language": "python",
   "name": "python3"
  },
  "language_info": {
   "codemirror_mode": {
    "name": "ipython",
    "version": 3
   },
   "file_extension": ".py",
   "mimetype": "text/x-python",
   "name": "python",
   "nbconvert_exporter": "python",
   "pygments_lexer": "ipython3",
   "version": "3.6.5"
  }
 },
 "nbformat": 4,
 "nbformat_minor": 2
}
