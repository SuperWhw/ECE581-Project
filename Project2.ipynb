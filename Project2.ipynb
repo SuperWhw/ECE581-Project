{
 "cells": [
  {
   "cell_type": "markdown",
   "metadata": {},
   "source": [
    "# Project 2\n",
    "### Hanwei Wang"
   ]
  },
  {
   "cell_type": "code",
   "execution_count": 1,
   "metadata": {},
   "outputs": [],
   "source": [
    "import numpy as np\n",
    "import random\n",
    "import math\n",
    "import matplotlib.pyplot as plt\n",
    "from tqdm import tqdm\n",
    "N = 100001"
   ]
  },
  {
   "cell_type": "markdown",
   "metadata": {},
   "source": [
    "## 1.Problem 1"
   ]
  },
  {
   "cell_type": "code",
   "execution_count": 2,
   "metadata": {},
   "outputs": [
    {
     "name": "stdout",
     "output_type": "stream",
     "text": [
      "Simulation:\n",
      "P(i=0, j=0) =  0.12232877671223288\n",
      "P(i=0, j=1) =  0.12649873501264988\n",
      "P(i=1, j=0) =  0.25093749062509374\n",
      "P(i=1, j=1) =  0.5002349976500235\n",
      "P(i=0) =  0.24882751172488274\n",
      "P(i=1) =  0.7511724882751173\n",
      "P(j=0) =  0.37326626733732665\n",
      "P(j=1) =  0.6267337326626734\n",
      "Target:\n",
      "P(i=0, j=0) =  0.125\n",
      "P(i=0, j=1) =  0.125\n",
      "P(i=1, j=0) =  0.25\n",
      "P(i=1, j=1) =  0.5\n",
      "P(i=0) =  0.25\n",
      "P(i=1) =  0.75\n",
      "P(j=0) =  0.375\n",
      "P(j=1) =  0.625\n"
     ]
    }
   ],
   "source": [
    "I = []\n",
    "J = []\n",
    "p1 = p2 = p3 = p4 = 0\n",
    "for _ in range(N):\n",
    "    n = random.randint(1,8)\n",
    "    if n == 1:\n",
    "        i = j = 0\n",
    "        p1 += 1\n",
    "    elif n == 2:\n",
    "        i, j = 0, 1\n",
    "        p2 += 1\n",
    "    elif n == 3 or n == 4:\n",
    "        i, j = 1, 0\n",
    "        p3 += 1\n",
    "    else:\n",
    "        i = j = 1\n",
    "        p4 += 1\n",
    "    I.append(i)\n",
    "    J.append(j)\n",
    "print(\"Simulation:\")\n",
    "print(\"P(i=0, j=0) = \", p1/N)\n",
    "print(\"P(i=0, j=1) = \", p2/N)\n",
    "print(\"P(i=1, j=0) = \", p3/N)\n",
    "print(\"P(i=1, j=1) = \", p4/N)\n",
    "print(\"P(i=0) = \", (p1+p2)/N)\n",
    "print(\"P(i=1) = \", (p3+p4)/N)\n",
    "print(\"P(j=0) = \", (p1+p3)/N)\n",
    "print(\"P(j=1) = \", (p2+p4)/N)\n",
    "print(\"Target:\")\n",
    "print(\"P(i=0, j=0) = \", 1/8)\n",
    "print(\"P(i=0, j=1) = \", 1/8)\n",
    "print(\"P(i=1, j=0) = \", 1/4)\n",
    "print(\"P(i=1, j=1) = \", 1/2)\n",
    "print(\"P(i=0) = \", 1/8+1/8)\n",
    "print(\"P(i=1) = \", 1/4+1/2)\n",
    "print(\"P(j=0) = \", 1/8+1/4)\n",
    "print(\"P(j=1) = \", 1/8+1/2)"
   ]
  },
  {
   "cell_type": "markdown",
   "metadata": {},
   "source": [
    "## 2.Problem 2"
   ]
  },
  {
   "cell_type": "code",
   "execution_count": 3,
   "metadata": {},
   "outputs": [
    {
     "name": "stdout",
     "output_type": "stream",
     "text": [
      "Simulation:\n",
      "correlation coefficient =  0.14083587467760872\n",
      "Target:\n",
      "correlation coefficient =  0.14083587467760894\n"
     ]
    }
   ],
   "source": [
    "print(\"Simulation:\")\n",
    "i_avg = np.mean(I)\n",
    "j_avg = np.mean(J)\n",
    "IJ = np.mean([I[k]*J[k] for k in range(N)])\n",
    "print(\"correlation coefficient = \", (IJ-i_avg*j_avg)/math.sqrt(np.var(I)*np.var(J)))\n",
    "print(\"Target:\")\n",
    "print(\"correlation coefficient = \", np.corrcoef(I,J)[0][1])"
   ]
  },
  {
   "cell_type": "markdown",
   "metadata": {},
   "source": [
    "## 3.Problem 3"
   ]
  },
  {
   "cell_type": "code",
   "execution_count": 25,
   "metadata": {},
   "outputs": [],
   "source": [
    "p = 1/2\n",
    "Z = []\n",
    "for _ in range(N):\n",
    "    x = y = 1\n",
    "    while(random.randint(0,1) == 0):\n",
    "        x += 1\n",
    "    while(random.randint(0,1) == 0):\n",
    "        y += 1\n",
    "    Z.append(x+y)"
   ]
  },
  {
   "cell_type": "code",
   "execution_count": 26,
   "metadata": {},
   "outputs": [
    {
     "data": {
      "text/plain": [
       "<matplotlib.legend.Legend at 0x1c5a676e978>"
      ]
     },
     "execution_count": 26,
     "metadata": {},
     "output_type": "execute_result"
    },
    {
     "data": {
      "image/png": "[encoded data removed]",
      "text/plain": [
       "<Figure size 432x288 with 1 Axes>"
      ]
     },
     "metadata": {
      "needs_background": "light"
     },
     "output_type": "display_data"
    }
   ],
   "source": [
    "plt.figure()\n",
    "plt.hist(Z, bins=20, density=1, label='Simulation')\n",
    "pk = [p*p*(k-1)*pow((1-p),k-2) for k in range(2,20)]\n",
    "plt.plot([x for x in range(2,20)], pk, label='Target')\n",
    "plt.legend()"
   ]
  },
  {
   "cell_type": "markdown",
   "metadata": {},
   "source": [
    "## 4.Problem 4"
   ]
  },
  {
   "cell_type": "code",
   "execution_count": 32,
   "metadata": {},
   "outputs": [
    {
     "data": {
      "image/png": "[encoded data removed]",
      "text/plain": [
       "<Figure size 432x288 with 1 Axes>"
      ]
     },
     "metadata": {
      "needs_background": "light"
     },
     "output_type": "display_data"
    }
   ],
   "source": [
    "X = [0.95+(i-1)/100 for i in range(1,11+1)]\n",
    "Y = [1.95+(j-1)/100 for j in range(1,11+1)]\n",
    "plt.figure()\n",
    "for x in X:\n",
    "    for y in Y:\n",
    "        plt.scatter(x,y)"
   ]
  },
  {
   "cell_type": "code",
   "execution_count": 39,
   "metadata": {},
   "outputs": [
    {
     "data": {
      "image/png": "[encoded data removed]",
      "text/plain": [
       "<Figure size 432x288 with 1 Axes>"
      ]
     },
     "metadata": {
      "needs_background": "light"
     },
     "output_type": "display_data"
    }
   ],
   "source": [
    "plt.figure()\n",
    "W = []\n",
    "Z = []\n",
    "for x in X:\n",
    "    for y in Y:\n",
    "        w = x*x+5*y*y\n",
    "        z = -5*x*x+y*y\n",
    "        W.append(w)\n",
    "        Z.append(z)\n",
    "        plt.scatter(w,z)"
   ]
  },
  {
   "cell_type": "raw",
   "metadata": {},
   "source": [
    "|2x  10y|\n",
    "|-10x 2y|\n",
    "\n",
    "= 104xy\n",
    "= 208"
   ]
  },
  {
   "cell_type": "code",
   "execution_count": 46,
   "metadata": {},
   "outputs": [
    {
     "name": "stdout",
     "output_type": "stream",
     "text": [
      "Simulation:  208.0000000000001\n",
      "Target: 104xy = 104*1*2 = 208\n"
     ]
    }
   ],
   "source": [
    "k = math.sqrt(0.2*0.2+1*1)/1\n",
    "s1 = (X[10]-X[0])*(Y[10]-Y[0])\n",
    "s2 = (22.115-20.115)*(-0.71-(-1.71))*k*k\n",
    "print('Simulation: ', s2/s1)\n",
    "print('Target: 104xy = 104*1*2 = 208')"
   ]
  },
  {
   "cell_type": "markdown",
   "metadata": {},
   "source": [
    "## 5.Problem 5"
   ]
  },
  {
   "cell_type": "code",
   "execution_count": 23,
   "metadata": {},
   "outputs": [],
   "source": [
    "N1 = 10001\n",
    "Y = []\n",
    "s = 0\n",
    "for i in range(N1):\n",
    "    s += np.random.normal(1,1,1)\n",
    "    Y.append(s/(i+1))"
   ]
  },
  {
   "cell_type": "code",
   "execution_count": 24,
   "metadata": {},
   "outputs": [
    {
     "data": {
      "text/plain": [
       "[<matplotlib.lines.Line2D at 0x1c5c3f34dd8>]"
      ]
     },
     "execution_count": 24,
     "metadata": {},
     "output_type": "execute_result"
    },
    {
     "data": {
      "image/png": "[encoded data removed]",
      "text/plain": [
       "<Figure size 432x288 with 1 Axes>"
      ]
     },
     "metadata": {
      "needs_background": "light"
     },
     "output_type": "display_data"
    }
   ],
   "source": [
    "plt.plot([x for x in range(N1)], Y)"
   ]
  },
  {
   "cell_type": "code",
   "execution_count": 25,
   "metadata": {},
   "outputs": [
    {
     "name": "stdout",
     "output_type": "stream",
     "text": [
      "Mean converge to  0.9990939897962933\n"
     ]
    }
   ],
   "source": [
    "print(\"Mean converge to \", np.mean(Y[90000:]))"
   ]
  },
  {
   "cell_type": "markdown",
   "metadata": {},
   "source": [
    "## 6.Problem 6"
   ]
  },
  {
   "cell_type": "code",
   "execution_count": 26,
   "metadata": {},
   "outputs": [],
   "source": [
    "N1 = 5001\n",
    "Y1 = []\n",
    "Y2 = []\n",
    "sum1 = sum2 = 0\n",
    "for i in range(N1):\n",
    "    sum1 += np.random.uniform(0,2,1)\n",
    "    sum2 += np.random.normal(1,4,1)\n",
    "    Y1.append(sum1/(i+1))\n",
    "    Y2.append(sum2/(i+1))"
   ]
  },
  {
   "cell_type": "code",
   "execution_count": 27,
   "metadata": {},
   "outputs": [
    {
     "data": {
      "text/plain": [
       "<matplotlib.legend.Legend at 0x1ee10671a90>"
      ]
     },
     "execution_count": 27,
     "metadata": {},
     "output_type": "execute_result"
    },
    {
     "data": {
      "image/png": "[encoded data removed]",
      "text/plain": [
       "<Figure size 432x288 with 1 Axes>"
      ]
     },
     "metadata": {
      "needs_background": "light"
     },
     "output_type": "display_data"
    }
   ],
   "source": [
    "X = [x for x in range(N1)]\n",
    "plt.plot(X, Y1, label='Uniform')\n",
    "plt.plot(X, Y2, label='Normal')\n",
    "plt.legend()"
   ]
  },
  {
   "cell_type": "markdown",
   "metadata": {},
   "source": [
    "----------Uniform converge faster-----------"
   ]
  },
  {
   "cell_type": "markdown",
   "metadata": {},
   "source": [
    "## 7.Problem 7"
   ]
  },
  {
   "cell_type": "code",
   "execution_count": 18,
   "metadata": {},
   "outputs": [],
   "source": [
    "var = 1\n",
    "Y = []\n",
    "s = 0\n",
    "for i in range(N):\n",
    "    s += np.random.normal(1,(i+1)*var,1)\n",
    "    Y.append(s/(i+1))"
   ]
  },
  {
   "cell_type": "code",
   "execution_count": 19,
   "metadata": {},
   "outputs": [
    {
     "data": {
      "text/plain": [
       "[<matplotlib.lines.Line2D at 0x27a79736ac8>]"
      ]
     },
     "execution_count": 19,
     "metadata": {},
     "output_type": "execute_result"
    },
    {
     "data": {
      "image/png": "[encoded data removed]",
      "text/plain": [
       "<Figure size 432x288 with 1 Axes>"
      ]
     },
     "metadata": {
      "needs_background": "light"
     },
     "output_type": "display_data"
    }
   ],
   "source": [
    "plt.plot([x for x in range(N)], Y)"
   ]
  },
  {
   "cell_type": "code",
   "execution_count": null,
   "metadata": {},
   "outputs": [],
   "source": []
  }
 ],
 "metadata": {
  "kernelspec": {
   "display_name": "Python 3",
   "language": "python",
   "name": "python3"
  },
  "language_info": {
   "codemirror_mode": {
    "name": "ipython",
    "version": 3
   },
   "file_extension": ".py",
   "mimetype": "text/x-python",
   "name": "python",
   "nbconvert_exporter": "python",
   "pygments_lexer": "ipython3",
   "version": "3.6.5"
  }
 },
 "nbformat": 4,
 "nbformat_minor": 2
}
